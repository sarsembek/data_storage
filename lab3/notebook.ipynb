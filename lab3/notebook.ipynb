{
 "cells": [
  {
   "cell_type": "code",
   "execution_count": 66,
   "metadata": {},
   "outputs": [],
   "source": [
    "import csv\n",
    "\n",
    "# Load the dataset and skip rows with canceled invoices\n",
    "rows = []\n",
    "with open('online_retail.csv') as f:\n",
    "    reader = csv.reader(f)\n",
    "    next(reader)  # Skip the header row\n",
    "    for cols in reader:\n",
    "        if len(cols) == 8 and not cols[0].startswith('C'):\n",
    "            rows.append(cols)\n"
   ]
  },
  {
   "cell_type": "code",
   "execution_count": 67,
   "metadata": {},
   "outputs": [],
   "source": [
    "from collections import defaultdict\n",
    "\n",
    "# Group items by invoice number\n",
    "invoices = defaultdict(set)\n",
    "for row in rows:\n",
    "    invoices[row[0]].add(row[2])  # row[2] contains the Description\n"
   ]
  },
  {
   "cell_type": "code",
   "execution_count": 68,
   "metadata": {},
   "outputs": [],
   "source": [
    "# Create a list of all unique items\n",
    "all_items = sorted({item for items in invoices.values() for item in items})\n",
    "\n",
    "# Build the presence matrix\n",
    "presence_matrix = [[int(item in invoice) for item in all_items] for invoice in invoices.values()]\n",
    "\n",
    "# Convert the matrix to a DataFrame\n",
    "import pandas as pd\n",
    "df = pd.DataFrame(data=presence_matrix, columns=all_items)\n",
    "df_bool = df.astype(bool)\n"
   ]
  },
  {
   "cell_type": "code",
   "execution_count": 69,
   "metadata": {},
   "outputs": [
    {
     "name": "stdout",
     "output_type": "stream",
     "text": [
      "Support: 0.5, Itemsets: 0\n",
      "Support: 0.1, Itemsets: 1\n",
      "Support: 0.05, Itemsets: 23\n",
      "Support: 0.02, Itemsets: 303\n",
      "Support: 0.01, Itemsets: 1472\n"
     ]
    }
   ],
   "source": [
    "from mlxtend.frequent_patterns import fpgrowth\n",
    "\n",
    "# Run FP-Growth for various support levels\n",
    "for minsup in [0.5, 0.1, 0.05, 0.02, 0.01]:\n",
    "    freq_itemsets = fpgrowth(df_bool, minsup)\n",
    "    print(f\"Support: {minsup}, Itemsets: {len(freq_itemsets)}\")\n"
   ]
  },
  {
   "cell_type": "code",
   "execution_count": 70,
   "metadata": {},
   "outputs": [
    {
     "name": "stdout",
     "output_type": "stream",
     "text": [
      "      support            itemsets\n",
      "246  0.021392        (1824, 1825)\n",
      "247  0.029007          (162, 166)\n",
      "248  0.021302          (165, 166)\n",
      "249  0.024429        (3970, 3966)\n",
      "250  0.022435        (3904, 2837)\n",
      "251  0.026242        (1858, 2046)\n",
      "252  0.037391        (1856, 1858)\n",
      "253  0.023341        (1856, 1871)\n",
      "254  0.032814        (1858, 1871)\n",
      "255  0.026514        (1858, 1846)\n",
      "256  0.023477        (1857, 1858)\n",
      "257  0.020531         (2387, 115)\n",
      "258  0.022027        (3547, 2861)\n",
      "259  0.030819        (1858, 1869)\n",
      "260  0.023749        (1869, 1871)\n",
      "261  0.021211        (1856, 1869)\n",
      "262  0.022344        (1701, 1702)\n",
      "263  0.020350        (3904, 1858)\n",
      "264  0.025018        (2436, 2431)\n",
      "265  0.025381        (2049, 2046)\n",
      "266  0.023205        (2049, 2038)\n",
      "267  0.027466        (2045, 2046)\n",
      "268  0.024656        (2045, 2038)\n",
      "269  0.022752        (2041, 2045)\n",
      "270  0.023840        (2046, 2055)\n",
      "271  0.021710        (2049, 2055)\n",
      "272  0.020123        (2038, 2055)\n",
      "273  0.020305        (2041, 2055)\n",
      "274  0.029052        (2046, 2038)\n",
      "275  0.023658        (2041, 2038)\n",
      "276  0.025109        (2041, 2046)\n",
      "277  0.021891        (2041, 2049)\n",
      "278  0.024338        (1858, 1862)\n",
      "279  0.024384        (3506, 1047)\n",
      "280  0.023794        (2905, 3003)\n",
      "281  0.034808        (3003, 1599)\n",
      "282  0.023069        (2905, 1599)\n",
      "283  0.024248        (1858, 1868)\n",
      "284  0.020350        (1868, 1871)\n",
      "285  0.022979         (724, 2861)\n",
      "286  0.022933        (2861, 3981)\n",
      "287  0.020667         (724, 3981)\n",
      "288  0.023658         (723, 2861)\n",
      "289  0.021982        (1858, 1092)\n",
      "290  0.028689        (2656, 1599)\n",
      "291  0.027148        (2656, 3003)\n",
      "292  0.024565  (2656, 3003, 1599)\n",
      "293  0.025199        (2051, 2046)\n",
      "294  0.021347        (2041, 2051)\n",
      "295  0.020622        (2049, 2051)\n",
      "296  0.023341        (2051, 2038)\n",
      "297  0.020305        (1858, 1859)\n",
      "298  0.022072        (2040, 2046)\n",
      "299  0.020350        (2040, 2051)\n",
      "300  0.024746        (1849, 1858)\n",
      "301  0.021891        (3514, 2463)\n",
      "302  0.024746        (1450, 1451)\n"
     ]
    }
   ],
   "source": [
    "freq_itemsets = fpgrowth(df_bool, 0.02)\n",
    "multi_itemsets = freq_itemsets[freq_itemsets['itemsets'].map(len) > 1]\n",
    "print(multi_itemsets)"
   ]
  },
  {
   "cell_type": "code",
   "execution_count": 71,
   "metadata": {},
   "outputs": [
    {
     "name": "stdout",
     "output_type": "stream",
     "text": [
      "Confidence 2656 => 1599: 0.8263707571801567\n",
      "Confidence 1599 => 2656: 0.6236453201970443\n"
     ]
    }
   ],
   "source": [
    "import numpy as np\n",
    "\n",
    "# Assuming df is populated and M is the binary matrix from df\n",
    "M = df_bool.values  # Matrix from the df DataFrame\n",
    "\n",
    "# Calculate support and confidence for the itemsets\n",
    "support_2656 = len(M[M[:, 2656] == 1]) / len(M)\n",
    "support_1599 = len(M[M[:, 1599] == 1]) / len(M)\n",
    "support_both = len(M[(M[:, 2656] == 1) & (M[:, 1599] == 1)]) / len(M)\n",
    "\n",
    "# Print results\n",
    "print(f\"Confidence 2656 => 1599: {support_both / support_2656}\")\n",
    "print(f\"Confidence 1599 => 2656: {support_both / support_1599}\")\n"
   ]
  },
  {
   "cell_type": "code",
   "execution_count": 72,
   "metadata": {},
   "outputs": [
    {
     "name": "stdout",
     "output_type": "stream",
     "text": [
      "    antecedents consequents  antecedent support  consequent support   support  \\\n",
      "0  (2656, 3003)      (1599)            0.027148            0.046003  0.024565   \n",
      "1  (2656, 1599)      (3003)            0.028689            0.048314  0.024565   \n",
      "\n",
      "   confidence       lift  leverage  conviction  zhangs_metric  \n",
      "0    0.904841  19.669380  0.023316   10.025342       0.975647  \n",
      "1    0.856240  17.722404  0.023179    6.619970       0.971444  \n"
     ]
    }
   ],
   "source": [
    "from mlxtend.frequent_patterns import association_rules\n",
    "\n",
    "# Generate rules with minimum confidence of 0.85\n",
    "rules = association_rules(freq_itemsets, metric='confidence', min_threshold=0.85)\n",
    "print(rules)\n"
   ]
  },
  {
   "cell_type": "code",
   "execution_count": 2,
   "metadata": {},
   "outputs": [
    {
     "ename": "ModuleNotFoundError",
     "evalue": "No module named 'mlxtend'",
     "output_type": "error",
     "traceback": [
      "\u001b[0;31m---------------------------------------------------------------------------\u001b[0m",
      "\u001b[0;31mModuleNotFoundError\u001b[0m                       Traceback (most recent call last)",
      "Cell \u001b[0;32mIn[2], line 1\u001b[0m\n\u001b[0;32m----> 1\u001b[0m \u001b[38;5;28;01mfrom\u001b[39;00m \u001b[38;5;21;01mmlxtend\u001b[39;00m\u001b[38;5;21;01m.\u001b[39;00m\u001b[38;5;21;01mfrequent_patterns\u001b[39;00m \u001b[38;5;28;01mimport\u001b[39;00m apriori\n\u001b[1;32m      2\u001b[0m \u001b[38;5;28;01mimport\u001b[39;00m \u001b[38;5;21;01mtimeit\u001b[39;00m\n\u001b[1;32m      4\u001b[0m \u001b[38;5;66;03m# Compare the execution time of FP-Growth and Apriori\u001b[39;00m\n",
      "\u001b[0;31mModuleNotFoundError\u001b[0m: No module named 'mlxtend'"
     ]
    }
   ],
   "source": [
    "from mlxtend.frequent_patterns import apriori\n",
    "import timeit\n",
    "\n",
    "# Compare the execution time of FP-Growth and Apriori\n",
    "print(\"FP-Growth:\", timeit.timeit(lambda: fpgrowth(df_bool, 0.02), number=1))\n",
    "print(\"Apriori:\", timeit.timeit(lambda: apriori(df_bool, 0.02), number=1))\n"
   ]
  }
 ],
 "metadata": {
  "kernelspec": {
   "display_name": "Python 3",
   "language": "python",
   "name": "python3"
  },
  "language_info": {
   "codemirror_mode": {
    "name": "ipython",
    "version": 3
   },
   "file_extension": ".py",
   "mimetype": "text/x-python",
   "name": "python",
   "nbconvert_exporter": "python",
   "pygments_lexer": "ipython3",
   "version": "3.10.15"
  }
 },
 "nbformat": 4,
 "nbformat_minor": 2
}
